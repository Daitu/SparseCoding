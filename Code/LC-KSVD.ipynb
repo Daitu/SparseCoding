{
 "cells": [
  {
   "cell_type": "markdown",
   "metadata": {},
   "source": [
    "# Label Consistent K-SVD\n",
    "*** Author: Thomas Rolland ***\n",
    "\n",
    "\n",
    "Implementation of :\n",
    "https://ieeexplore.ieee.org/document/6516503/\n",
    "\n",
    "```\n",
    "A label consistent K-SVD (LC-KSVD) algorithm to learn a discriminative dictionary for sparse coding is presented. In addition to using class labels of training data, we also associate label information with each dictionary item (columns of the dictionary matrix) to enforce discriminability in sparse codes during the dictionary learning process. More specifically, we introduce a new label consistency constraint called \"discriminative sparse-code error\" and combine it with the reconstruction error and the classification error to form a unified objective function. The optimal solution is efficiently obtained using the K-SVD algorithm. Our algorithm learns a single overcomplete dictionary and an optimal linear classifier jointly. The incremental dictionary learning algorithm is presented for the situation of limited memory resources. It yields dictionaries so that feature points with the same class labels have similar sparse codes. Experimental results demonstrate that our algorithm outperforms many recently proposed sparse-coding techniques for face, action, scene, and object category recognition under the same learning conditions.\n",
    "```\n",
    "\n",
    "If you have any question, send me an email at: trolland@protonmail.ch"
   ]
  },
  {
   "cell_type": "code",
   "execution_count": 1,
   "metadata": {},
   "outputs": [
    {
     "name": "stderr",
     "output_type": "stream",
     "text": [
      "/usr/local/lib/python3.5/dist-packages/h5py/__init__.py:34: FutureWarning: Conversion of the second argument of issubdtype from `float` to `np.floating` is deprecated. In future, it will be treated as `np.float64 == np.dtype(float).type`.\n",
      "  from ._conv import register_converters as _register_converters\n"
     ]
    }
   ],
   "source": [
    "import numpy as np\n",
    "import math\n",
    "import sys\n",
    "import matplotlib.pyplot as plt\n",
    "# Dataset\n",
    "from tensorflow.examples.tutorials.mnist import input_data\n",
    "# Dictionart learning algorithms\n",
    "import spams # http://spams-devel.gforge.inria.fr/"
   ]
  },
  {
   "cell_type": "markdown",
   "metadata": {},
   "source": [
    "## Define usefull function"
   ]
  },
  {
   "cell_type": "code",
   "execution_count": 2,
   "metadata": {},
   "outputs": [],
   "source": [
    "def create_Q(labels, nb_class, k,n):\n",
    "    \"\"\"\n",
    "     Create the discriminative matrix Q\n",
    "\n",
    "    Parameters\n",
    "    ----------\n",
    "    labels : np.array\n",
    "        List of all labels, for example [[0,1],[0,1],[1,0]]\n",
    "    nb_class : int\n",
    "        Number of classes\n",
    "    k : int\n",
    "        Number of atoms in the dictionary\n",
    "    n : int\n",
    "        Number of trainning samples\n",
    "\n",
    "    Returns\n",
    "    -------\n",
    "    numpy.array\n",
    "        Return the matrix Q initialized\n",
    "\n",
    "    \"\"\"\n",
    "    plus_one = (k % nb_class) == 0 \n",
    "    nb_atoms_per_class = int(math.floor(k/nb_class))\n",
    "    \n",
    "    # Init Q \n",
    "    Q = np.zeros((k,n))\n",
    "    for item in range(n):\n",
    "        locations = labels[item].nonzero() \n",
    "        # For all locations\n",
    "        for place in locations[0]:\n",
    "            for i in range(nb_atoms_per_class): # Fill\n",
    "                Q[(nb_atoms_per_class * place)+i,item] = 1 # i.e. atom and sample share the \n",
    "                                                            # same label\n",
    "            if ((place -1 ) == nb_class) and plus_one:\n",
    "                pass # non-discriminative atoms\n",
    "    return Q"
   ]
  },
  {
   "cell_type": "code",
   "execution_count": 3,
   "metadata": {},
   "outputs": [],
   "source": [
    "def LC_KSVD(X, Q, lambda1,m, k):\n",
    "    \"\"\"\n",
    "        LC-KSVD algorithm\n",
    "        \n",
    "        Parameters\n",
    "        ----------\n",
    "        X  : np.array\n",
    "            List of all samples vectorized\n",
    "        Q  : np.array\n",
    "            Discriminative matrix Q\n",
    "        lambda1:\n",
    "            Constant which give influence on the sparse term in the minimization function\n",
    "        k  : int\n",
    "            Number of atoms in the dictionary\n",
    "    \"\"\"\n",
    "    param = {'mode':5, 'K':k, 'lambda1':lambda1, 'numThreads':5, 'batchsize':256, 'iter':200}\n",
    "\n",
    "\n",
    "    # Find a overcomplete dictionary\n",
    "    \n",
    "    D_0 = spams.trainDL(X,**param)\n",
    "    print(\"D0........................Done\")\n",
    "    # Find sparse linear combination \n",
    "    h_0 = spams.omp(X,D_0,lambda1=lambda1) \n",
    "    print(\"H0........................Done\")\n",
    "    \n",
    "    # Compute A_0 \n",
    "\n",
    "    lambda2 = 0.5                                   #You can change lambda2 if you want\n",
    "    I = np.identity(k) \n",
    "    tmp = np.dot(h_0.toarray(),Q.T)\n",
    "    tmp2 = np.linalg.inv(np.dot(h_0 ,np.transpose(h_0)) + lambda2 * I)\n",
    "    A_0 =  np.dot(tmp2,tmp)\n",
    "    #A_0 = np.dot(np.dot(Q, np.transpose(h_0)),np.linalg.inv(np.dot(h_0 ,np.transpose(h_0)) + lambda2 * I))\n",
    "    \n",
    "    # Save A0\n",
    "    fileA0 = open('A0_LC-KSVD.mat','wb')\n",
    "\n",
    "    np.save(fileA0,A_0)\n",
    "    print(np.shape(A_0))\n",
    "    print(\"Initial step..............Done\") \n",
    "\n",
    "    # Init Ynew and Dnews\n",
    "    \n",
    "\n",
    "    Ynew =(np.concatenate([X,math.sqrt(5)*Q])) # here you can change 5 by anything\n",
    "    Dnew = (np.concatenate([D_0,math.sqrt(5)*A_0])) # here you can change 5 by anything\n",
    "   \n",
    "    print(\"Creation Ynew,Dnew........Done\")\n",
    "    \n",
    "    # Use K-SVD algorithm \n",
    "    Ynew = np.asfortranarray(Ynew,dtype=float)   \n",
    "    Dnew = np.asfortranarray(Dnew,dtype=float)    \n",
    "    \n",
    "    D = spams.trainDL(Ynew,D=Dnew,**param)\n",
    "   \n",
    "    print(\"KSVD......................Done\")\n",
    "\n",
    "    # Extract (D and A) and Normalize them\n",
    "    D_ext = D[:m] \n",
    "    A_ext = D[m:]\n",
    "    \n",
    "    Dt = np.transpose(D_ext)\n",
    "    At = np.transpose(A_ext)\n",
    "    espilon = 0.00000001 # Just in case to avoid division by 0 but normaly its good\n",
    "    # You cold remove this espilon if you want\n",
    "    for i in range(k): # <=> len(At) = len(Dt)\n",
    "        Dt[i] = Dt[i] / (np.linalg.norm(Dt[i],2) + espilon)\n",
    "        At[i] = At[i] /(np.linalg.norm(Dt[i],2) + espilon)\n",
    "    D_hat = np.transpose(Dt)\n",
    "    A_hat = np.transpose(At)\n",
    "\n",
    "    # Use OMP algorithm to find h\n",
    "\n",
    "    D_hat = np.asfortranarray(D_hat,dtype=float)   \n",
    "    h_hat = spams.omp(X,D_hat,lambda1= lambda1)  \n",
    "\n",
    "    return D_hat,A_hat,h_hat\n"
   ]
  },
  {
   "cell_type": "markdown",
   "metadata": {},
   "source": [
    "## Main"
   ]
  },
  {
   "cell_type": "markdown",
   "metadata": {},
   "source": [
    "First we get the trainning samples"
   ]
  },
  {
   "cell_type": "code",
   "execution_count": 4,
   "metadata": {},
   "outputs": [
    {
     "name": "stdout",
     "output_type": "stream",
     "text": [
      "WARNING:tensorflow:From <ipython-input-4-79c88d94470e>:1: read_data_sets (from tensorflow.contrib.learn.python.learn.datasets.mnist) is deprecated and will be removed in a future version.\n",
      "Instructions for updating:\n",
      "Please use alternatives such as official/mnist/dataset.py from tensorflow/models.\n",
      "WARNING:tensorflow:From /home/trolland/.local/lib/python3.5/site-packages/tensorflow/contrib/learn/python/learn/datasets/mnist.py:260: maybe_download (from tensorflow.contrib.learn.python.learn.datasets.base) is deprecated and will be removed in a future version.\n",
      "Instructions for updating:\n",
      "Please write your own downloading logic.\n",
      "WARNING:tensorflow:From /home/trolland/.local/lib/python3.5/site-packages/tensorflow/contrib/learn/python/learn/datasets/mnist.py:262: extract_images (from tensorflow.contrib.learn.python.learn.datasets.mnist) is deprecated and will be removed in a future version.\n",
      "Instructions for updating:\n",
      "Please use tf.data to implement this functionality.\n",
      "Extracting MNIST_DATA/train-images-idx3-ubyte.gz\n",
      "WARNING:tensorflow:From /home/trolland/.local/lib/python3.5/site-packages/tensorflow/contrib/learn/python/learn/datasets/mnist.py:267: extract_labels (from tensorflow.contrib.learn.python.learn.datasets.mnist) is deprecated and will be removed in a future version.\n",
      "Instructions for updating:\n",
      "Please use tf.data to implement this functionality.\n",
      "Extracting MNIST_DATA/train-labels-idx1-ubyte.gz\n",
      "WARNING:tensorflow:From /home/trolland/.local/lib/python3.5/site-packages/tensorflow/contrib/learn/python/learn/datasets/mnist.py:110: dense_to_one_hot (from tensorflow.contrib.learn.python.learn.datasets.mnist) is deprecated and will be removed in a future version.\n",
      "Instructions for updating:\n",
      "Please use tf.one_hot on tensors.\n",
      "Extracting MNIST_DATA/t10k-images-idx3-ubyte.gz\n",
      "Extracting MNIST_DATA/t10k-labels-idx1-ubyte.gz\n",
      "WARNING:tensorflow:From /home/trolland/.local/lib/python3.5/site-packages/tensorflow/contrib/learn/python/learn/datasets/mnist.py:290: DataSet.__init__ (from tensorflow.contrib.learn.python.learn.datasets.mnist) is deprecated and will be removed in a future version.\n",
      "Instructions for updating:\n",
      "Please use alternatives such as official/mnist/dataset.py from tensorflow/models.\n"
     ]
    }
   ],
   "source": [
    "mnist = input_data.read_data_sets('MNIST_DATA',one_hot=True)\n",
    "digits = mnist.train.images[:2000]\n",
    "digits_labels = mnist.train.labels[:2000] # Remove [:number] to train on all dataset"
   ]
  },
  {
   "cell_type": "markdown",
   "metadata": {},
   "source": [
    "Preprocessing of our input data"
   ]
  },
  {
   "cell_type": "code",
   "execution_count": 5,
   "metadata": {
    "collapsed": true
   },
   "outputs": [],
   "source": [
    "[n,m] = np.shape(digits.data)\n",
    "X = np.transpose(digits.data)\n",
    "X = np.asfortranarray(X,dtype=float)"
   ]
  },
  {
   "cell_type": "markdown",
   "metadata": {},
   "source": [
    "Define some usefull constants"
   ]
  },
  {
   "cell_type": "code",
   "execution_count": 6,
   "metadata": {},
   "outputs": [],
   "source": [
    "# Number of atoms\n",
    "k = 1024  # Traditionaly take k = 2 * signal size, here signal size = 784 -> k > 1500\n",
    "# I choose 1024 only for rapidity of computation\n",
    "\n",
    "# Sparsity power on the minimization problem\n",
    "lambda1 = 1.2/math.sqrt(m) # see https://www.di.ens.fr/willow/pdfs/icml09.pdf\n",
    "\n",
    "# Discriminative matrix Q\n",
    "Q = create_Q(digits_labels,len(digits_labels[0]),k,n)"
   ]
  },
  {
   "cell_type": "markdown",
   "metadata": {},
   "source": [
    "Then use the K-SVD algorithm to find D,A and gamma (here Gamma = h)"
   ]
  },
  {
   "cell_type": "code",
   "execution_count": 7,
   "metadata": {},
   "outputs": [
    {
     "name": "stdout",
     "output_type": "stream",
     "text": [
      "D0........................Done\n",
      "H0........................Done\n",
      "(1024, 1024)\n",
      "Initial step..............Done\n",
      "Creation Ynew,Dnew........Done\n",
      "KSVD......................Done\n"
     ]
    }
   ],
   "source": [
    "[D,A,h] = LC_KSVD(X,Q,lambda1,m,k)"
   ]
  },
  {
   "cell_type": "markdown",
   "metadata": {},
   "source": [
    "Save D and A values"
   ]
  },
  {
   "cell_type": "code",
   "execution_count": 8,
   "metadata": {
    "collapsed": true
   },
   "outputs": [],
   "source": [
    "# Save D and A\n",
    "fileD = open('D_LC-KSVD.mat','wb')\n",
    "#fileH = open('h_LC-KSVD.mat','wb')\n",
    "fileA = open('A_LC-KSVD.mat','wb')\n",
    "np.save(fileD,D)\n",
    "#np.save(fileH,h.toarray())\n",
    "np.save(fileA,A)\n"
   ]
  },
  {
   "cell_type": "markdown",
   "metadata": {},
   "source": [
    "Note: Be carefull if you want to save h. h is a sparse matrix, you need to use h.todense() to transform this matrix into a numpy array"
   ]
  },
  {
   "cell_type": "markdown",
   "metadata": {},
   "source": [
    "### Here you can add any classifier and use the result of OMP on the test dataset"
   ]
  },
  {
   "cell_type": "code",
   "execution_count": 9,
   "metadata": {
    "collapsed": true
   },
   "outputs": [],
   "source": [
    "digits = mnist.test.images[:10] # Remove [:number] to test on all dataset\n",
    "[n,m] = np.shape(digits.data)\n",
    "X = np.transpose(digits.data)\n",
    "X = np.asfortranarray(X,dtype=float)\n",
    "lambda1 = 1.2/math.sqrt(m)"
   ]
  },
  {
   "cell_type": "markdown",
   "metadata": {},
   "source": [
    "Compute sparse coeficients for the test dataset"
   ]
  },
  {
   "cell_type": "code",
   "execution_count": 10,
   "metadata": {},
   "outputs": [
    {
     "name": "stdout",
     "output_type": "stream",
     "text": [
      "[[0.         0.         0.         ... 0.         0.50982581 0.        ]\n",
      " [0.         0.         0.         ... 0.         0.         0.        ]\n",
      " [0.         0.         0.         ... 0.         0.         0.        ]\n",
      " ...\n",
      " [0.         0.         0.         ... 0.         0.         0.        ]\n",
      " [0.         0.         0.         ... 0.         0.         2.26418046]\n",
      " [0.         0.         0.         ... 0.         0.         0.        ]]\n",
      "(1024, 10)\n",
      "(784, 10)\n",
      "(1024, 10)\n"
     ]
    }
   ],
   "source": [
    "h_test = spams.omp(X,D,lambda1= lambda1)  \n",
    "h_test = h_test.todense()\n",
    "# Note: Here we use @ instead of np.dot for RAM saving\n",
    "recons = D @ h_test\n",
    "discriminative_coef = A @ h_test\n",
    "print(h_test.shape)\n",
    "print(recons.shape)\n",
    "print(discriminative_coef.shape)"
   ]
  },
  {
   "cell_type": "markdown",
   "metadata": {},
   "source": [
    "show the results"
   ]
  },
  {
   "cell_type": "code",
   "execution_count": 11,
   "metadata": {},
   "outputs": [
    {
     "name": "stdout",
     "output_type": "stream",
     "text": [
      "(10, 784)\n",
      "(10, 1024)\n",
      "(10, 784)\n",
      "(10, 1024)\n",
      "[[ 0.00000000e+00  0.00000000e+00  0.00000000e+00  0.00000000e+00\n",
      "   0.00000000e+00  0.00000000e+00  0.00000000e+00  0.00000000e+00\n",
      "   0.00000000e+00  0.00000000e+00  0.00000000e+00  0.00000000e+00\n",
      "   0.00000000e+00  0.00000000e+00  0.00000000e+00  0.00000000e+00\n",
      "   0.00000000e+00  0.00000000e+00  0.00000000e+00  0.00000000e+00\n",
      "   0.00000000e+00  0.00000000e+00  0.00000000e+00  0.00000000e+00\n",
      "   0.00000000e+00  0.00000000e+00  0.00000000e+00  0.00000000e+00\n",
      "   0.00000000e+00  0.00000000e+00  0.00000000e+00  0.00000000e+00\n",
      "   0.00000000e+00  0.00000000e+00  0.00000000e+00  0.00000000e+00\n",
      "   0.00000000e+00  4.46205409e-03  9.02010109e-03  1.51832400e-02\n",
      "   1.37483868e-02  6.16188447e-03  1.00927415e-03  0.00000000e+00\n",
      "   1.79225399e-02  2.93384453e-02  2.60739453e-02  7.66880776e-03\n",
      "   0.00000000e+00  0.00000000e+00  0.00000000e+00  0.00000000e+00\n",
      "   0.00000000e+00  0.00000000e+00  0.00000000e+00  0.00000000e+00\n",
      "   0.00000000e+00  0.00000000e+00  0.00000000e+00  0.00000000e+00\n",
      "   0.00000000e+00  0.00000000e+00  0.00000000e+00  4.34425719e-04\n",
      "   9.51013463e-03  5.96094515e-03  7.34387885e-03  2.50801069e-02\n",
      "   3.33653362e-03 -3.83703973e-02 -4.36822051e-02 -6.02899169e-02\n",
      "  -3.49087899e-02  6.33569694e-03  4.35630465e-02 -2.00750613e-02\n",
      "  -1.87162824e-02  5.51188744e-04  3.62720706e-03  5.80353114e-04\n",
      "   0.00000000e+00  0.00000000e+00  0.00000000e+00  0.00000000e+00\n",
      "   0.00000000e+00  0.00000000e+00  0.00000000e+00  0.00000000e+00\n",
      "   3.14649648e-04  4.64841466e-03 -1.10046108e-02 -1.26068055e-02\n",
      "   2.64853773e-03  3.10049128e-03  8.67409319e-03  5.40398570e-02\n",
      "   3.68514319e-02 -8.19690405e-03  1.54366307e-02 -4.01679351e-02\n",
      "  -4.74965379e-02 -9.43204726e-03 -2.39930308e-02 -1.64724487e-02\n",
      "  -7.93912772e-02 -6.48106647e-02 -2.18724574e-02 -2.90504187e-03\n",
      "  -2.10692277e-03  0.00000000e+00  0.00000000e+00  0.00000000e+00\n",
      "   0.00000000e+00  0.00000000e+00  0.00000000e+00  0.00000000e+00\n",
      "  -5.64519733e-04 -4.31387142e-03 -2.25333531e-02 -4.31199839e-02\n",
      "  -6.33256116e-03  2.76350510e-02  4.27040923e-02  1.33691697e-02\n",
      "  -3.73922818e-02  9.40712761e-02  5.02088875e-02 -2.38757061e-02\n",
      "   1.65761731e-02  4.47317820e-02  2.76652003e-02  5.79541754e-02\n",
      "  -9.89229496e-02 -1.36286062e-01  2.46248496e-03 -1.55649260e-02\n",
      "  -3.58388543e-03  3.73268177e-03  5.32909043e-04  0.00000000e+00\n",
      "   0.00000000e+00  0.00000000e+00  0.00000000e+00 -1.03151070e-03\n",
      "   2.74660805e-03 -1.00349074e-02 -4.32568086e-02 -6.01431686e-02\n",
      "  -4.29738989e-03 -9.27420497e-03 -5.96501340e-02 -6.26843221e-02\n",
      "   8.44087158e-02  2.03069383e-01  8.57677405e-02  1.10392431e-01\n",
      "   9.92911468e-02  2.09685004e-02  1.10240505e-02  1.21265652e-01\n",
      "   4.80598423e-02 -3.75623016e-03  1.15415839e-01  2.44864763e-02\n",
      "  -6.97319714e-02  4.25287187e-02  2.91764087e-02  0.00000000e+00\n",
      "   0.00000000e+00  0.00000000e+00 -6.42033629e-03  1.14527375e-03\n",
      "   3.12809419e-03  8.72903142e-03  3.19820540e-02  6.22938878e-02\n",
      "   1.08680880e-01 -2.57648325e-02 -9.96508958e-02 -7.68340710e-02\n",
      "  -2.78024553e-01 -2.48396381e-01 -1.69851339e-01 -7.41972660e-02\n",
      "  -1.64082870e-02 -1.37692268e-01 -1.34578048e-01 -5.42459857e-02\n",
      "   1.50230240e-02  2.21531723e-02 -3.33118839e-02 -4.27292466e-02\n",
      "  -1.29927987e-01 -3.43345816e-02 -1.13195791e-03 -4.79061371e-03\n",
      "   0.00000000e+00 -1.64587680e-03 -1.20839599e-02 -5.81313665e-02\n",
      "  -3.81461930e-02  1.39061454e-01  3.78126911e-01  5.55788838e-01\n",
      "   5.41500171e-01  4.54797759e-01  3.57957817e-01  3.20330805e-01\n",
      "   2.26990341e-01  2.05228145e-01  6.67457866e-02  7.24078806e-03\n",
      "   8.60818350e-02  1.60789112e-01  1.19403477e-01  2.32541463e-01\n",
      "   7.76469718e-02  5.09522461e-02  7.27823132e-02  1.11264946e-02\n",
      "  -2.89362296e-02  2.84369030e-02  1.19185851e-02  0.00000000e+00\n",
      "   0.00000000e+00 -5.42004228e-03 -2.86801744e-02 -1.20946455e-01\n",
      "   6.92530429e-02  3.03561879e-01  6.40850260e-01  9.30506332e-01\n",
      "   8.60970688e-01  7.80341696e-01  8.18763271e-01  7.28364348e-01\n",
      "   7.71413475e-01  7.08626534e-01  6.72607505e-01  6.70848205e-01\n",
      "   6.47199465e-01  6.38429574e-01  7.35016445e-01  6.96411965e-01\n",
      "   4.66366285e-01  2.24788306e-01  1.20723713e-03 -5.04215554e-02\n",
      "   3.19254828e-03  5.41967791e-02  3.92246001e-03  0.00000000e+00\n",
      "   0.00000000e+00 -3.99084169e-03 -4.53817530e-02 -1.21277327e-01\n",
      "  -3.23950721e-02  8.40297803e-02  2.82144739e-01  5.05706279e-01\n",
      "   4.95115244e-01  5.50669560e-01  6.21619421e-01  7.45355134e-01\n",
      "   9.94174578e-01  8.40512076e-01  9.10519270e-01  9.62783715e-01\n",
      "   1.00829991e+00  8.35766003e-01  7.46763928e-01  1.15810041e+00\n",
      "   1.04494544e+00  4.28518230e-01  5.93871789e-02  6.82384088e-02\n",
      "  -2.45048654e-02 -9.63584089e-03 -5.55258964e-03 -7.61237849e-03\n",
      "   0.00000000e+00 -2.41793358e-03 -6.22089416e-02 -8.45663998e-02\n",
      "  -4.52848699e-02 -1.47264337e-01 -6.70236182e-02 -3.47280167e-02\n",
      "  -1.08958510e-01  1.23898267e-01 -5.01996648e-02  8.65291083e-02\n",
      "   2.68009464e-01  1.85732079e-01  2.01095836e-01  2.28743853e-01\n",
      "   4.16305557e-01  2.32769170e-01  1.97464067e-01  1.00982911e+00\n",
      "   8.51190632e-01  3.83404947e-01  5.91815270e-02  8.37524055e-02\n",
      "  -7.51813989e-05 -5.31080932e-03  1.09948649e-02 -3.20203230e-03\n",
      "   0.00000000e+00 -3.87685542e-04 -4.27993029e-02 -3.64407101e-02\n",
      "   3.23976226e-02 -5.67549273e-02  7.95330898e-03  1.33430864e-02\n",
      "   3.49322217e-02  5.66124465e-03  6.74503916e-02 -4.84182749e-02\n",
      "  -1.02349766e-01  1.39323947e-02 -2.77524354e-02 -9.14493942e-02\n",
      "   2.88960523e-02 -1.43676389e-01  5.15230838e-01  1.07615402e+00\n",
      "   6.62701282e-01  9.46678843e-02 -2.56917734e-02  8.15579474e-02\n",
      "   3.16542357e-02  2.64172164e-02  2.77145026e-02  0.00000000e+00\n",
      "   0.00000000e+00  0.00000000e+00 -1.62382955e-02 -4.92080030e-02\n",
      "  -1.68715274e-02  7.57560090e-03  7.50522786e-02 -8.12525021e-02\n",
      "  -2.45733237e-02  7.31797881e-02 -1.76469101e-01 -1.27236923e-01\n",
      "   1.23014247e-02 -1.47521428e-02  1.43006907e-01  6.18487220e-02\n",
      "   4.73727573e-02  2.29327661e-02  8.07764978e-01  9.82878365e-01\n",
      "   3.24225476e-01 -5.39305541e-02  3.54193344e-02 -1.43573465e-02\n",
      "  -3.53584551e-02  1.37963431e-04  0.00000000e+00  0.00000000e+00\n",
      "   0.00000000e+00  0.00000000e+00 -2.14104255e-02 -3.02766261e-02\n",
      "  -4.28047911e-03  3.13625654e-02  5.52385260e-02 -2.08915634e-02\n",
      "  -3.64103119e-02  5.56435666e-02  9.58666384e-03 -7.76672899e-02\n",
      "  -1.94056691e-02 -2.27089166e-02 -7.27367058e-02 -4.54735493e-02\n",
      "  -1.93095380e-02  5.22379114e-01  9.70060518e-01  7.71211636e-01\n",
      "   1.49656081e-01  4.10228226e-02 -3.60279136e-04 -4.74667953e-02\n",
      "   4.97423214e-02 -7.05095937e-03  0.00000000e+00  0.00000000e+00\n",
      "   0.00000000e+00  0.00000000e+00 -1.72533807e-03  6.70820522e-03\n",
      "   1.34301050e-02 -1.98231266e-02  1.23651356e-02 -3.06692258e-02\n",
      "   2.38682513e-02  1.01292295e-01  1.07123584e-01  4.57995484e-02\n",
      "  -7.17089555e-02 -1.22145478e-02  4.57800292e-02  8.06870512e-02\n",
      "   2.03061638e-01  8.26620665e-01  9.33813434e-01  5.39023282e-01\n",
      "   9.40809338e-02  1.03123568e-01  1.13690708e-02  2.33530578e-02\n",
      "   8.29271318e-02 -3.39340472e-04  0.00000000e+00  0.00000000e+00\n",
      "   0.00000000e+00  0.00000000e+00  0.00000000e+00  1.19258930e-02\n",
      "   1.71526967e-02 -4.06748934e-02 -7.34834243e-02  3.66401140e-02\n",
      "   4.14680112e-02 -7.78920816e-03 -1.12313630e-01  1.67473451e-01\n",
      "  -2.27985010e-03 -2.42276846e-02  5.29250633e-03  7.88650730e-02\n",
      "   6.06430308e-01  1.03264158e+00  6.88487378e-01  4.20767622e-02\n",
      "  -2.74724333e-02 -1.27134719e-01  5.02527510e-02  5.88144043e-02\n",
      "   2.32137220e-02 -2.27433441e-02  5.35902959e-04  0.00000000e+00\n",
      "   0.00000000e+00  0.00000000e+00 -3.60082942e-03  5.76530690e-03\n",
      "  -5.30109264e-02 -1.38066928e-02 -6.94499892e-02 -1.14552749e-01\n",
      "   8.13676319e-02  2.73133665e-02  8.35531734e-02 -2.64835253e-02\n",
      "  -9.59827719e-02  2.70379300e-02 -2.12899922e-02  8.56836638e-02\n",
      "   7.74717065e-01  8.80589054e-01  3.86430367e-01  2.38807551e-02\n",
      "  -1.07420024e-01 -1.52306347e-01  2.54354926e-02  4.73103145e-02\n",
      "  -2.15547216e-02 -2.49196672e-02  7.38758909e-04  0.00000000e+00\n",
      "   0.00000000e+00  0.00000000e+00 -6.27114739e-03 -2.48822778e-02\n",
      "  -5.17225628e-03 -1.07499398e-02  1.36438099e-01  3.36466609e-03\n",
      "   9.68072717e-02 -3.83299168e-02  9.60927258e-02 -1.68875115e-02\n",
      "   1.61983335e-02  1.19188443e-01  1.63301210e-02  3.96111471e-01\n",
      "   1.06107975e+00  7.12523532e-01  1.19489188e-01  1.25507127e-01\n",
      "   1.75324741e-02 -1.20047905e-01  3.94537902e-02  1.63413599e-02\n",
      "  -4.35166288e-02 -6.78532015e-03  7.26648132e-05  0.00000000e+00\n",
      "   0.00000000e+00  0.00000000e+00 -3.42013157e-02  3.66470104e-02\n",
      "   3.29466841e-02 -6.70957442e-02  8.20512595e-02  5.70315372e-02\n",
      "   6.06321936e-02  3.40779030e-04  1.06815422e-01  3.14825988e-02\n",
      "   9.29353736e-02 -6.15173916e-02  3.87027207e-01  9.98711620e-01\n",
      "   8.56413073e-01  2.84404622e-01 -7.84101019e-02  1.47773976e-02\n",
      "   4.48552107e-02  6.23876566e-02  2.82098462e-03  2.35598884e-02\n",
      "  -1.62636350e-02 -1.94656657e-02  1.61294192e-02  0.00000000e+00\n",
      "   0.00000000e+00  0.00000000e+00 -1.23213284e-02  7.60911435e-02\n",
      "   7.54127899e-02 -8.46917769e-02 -8.00096896e-03 -3.43327643e-02\n",
      "  -3.53159327e-02 -1.05192157e-01 -4.36692410e-03 -8.05742933e-02\n",
      "   2.15818535e-02  1.54618785e-01  8.18394104e-01  9.86145238e-01\n",
      "   6.60543704e-01  7.38306622e-02  4.61875868e-02  5.88816388e-03\n",
      "  -2.31559948e-02  4.92316128e-02 -2.97554773e-02 -3.76052185e-02\n",
      "  -5.32097121e-02 -3.54124729e-02  4.89624183e-03  0.00000000e+00\n",
      "   0.00000000e+00  0.00000000e+00  1.77253417e-02  2.12502309e-02\n",
      "   1.12945078e-01  4.77949376e-02  3.30424499e-02 -1.28768272e-02\n",
      "  -4.50121748e-02 -1.50413880e-01  1.63877721e-03  5.58710003e-02\n",
      "   2.09968184e-01  7.12509989e-01  1.01536558e+00  6.80678852e-01\n",
      "   2.12200672e-01  1.11134224e-02  1.25350925e-01 -9.83276313e-02\n",
      "  -3.08090709e-02 -1.78827745e-02 -4.85512398e-02 -3.42282668e-02\n",
      "  -8.37105329e-03 -3.51298246e-04 -2.38275905e-04 -7.00811514e-04\n",
      "   0.00000000e+00  0.00000000e+00 -3.13300064e-03  3.38494576e-02\n",
      "   3.52939349e-02  3.86133402e-03 -5.22428320e-02  4.00631299e-03\n",
      "   4.45255947e-02  2.09389763e-02  1.35897047e-01 -4.17462944e-02\n",
      "   3.51622033e-01  1.00765454e+00  1.04018617e+00  3.58742283e-01\n",
      "  -8.54830622e-03 -6.64468144e-02 -2.36193515e-02 -8.72387284e-02\n",
      "   4.62161520e-02 -9.83926964e-03  8.43819704e-03 -3.66568853e-02\n",
      "  -1.21792766e-02 -5.74243926e-03  0.00000000e+00  0.00000000e+00\n",
      "   0.00000000e+00  0.00000000e+00 -1.84376045e-02 -2.18545158e-03\n",
      "  -2.92919072e-03 -1.55336417e-02 -6.91315083e-03 -3.98299866e-02\n",
      "   5.24090927e-02 -2.90308604e-02 -6.42407724e-02  1.35495604e-01\n",
      "   7.73938303e-01  1.06060526e+00  7.52798140e-01  1.65639625e-01\n",
      "  -5.46019168e-02  1.90643666e-02 -8.23792488e-02 -7.65596131e-02\n",
      "  -7.81734057e-02 -5.89593662e-02  2.30029431e-02  1.90205513e-02\n",
      "   1.69569516e-02  4.64275483e-03  0.00000000e+00  0.00000000e+00\n",
      "   0.00000000e+00  0.00000000e+00 -8.49845616e-04  1.60406622e-02\n",
      "  -2.35259895e-03 -5.33204054e-02 -8.26398351e-02 -4.42684923e-02\n",
      "  -1.02029984e-01 -1.12442262e-01 -7.04067705e-03  6.55691724e-01\n",
      "   9.67151886e-01  7.16110862e-01  4.04167665e-01 -1.03350883e-01\n",
      "  -2.46260051e-02  3.21617955e-02 -6.03375864e-02  1.04768515e-02\n",
      "  -3.76833389e-02 -5.29488682e-02  4.43071928e-02  5.46251425e-02\n",
      "   2.08827203e-02  4.86395993e-03  0.00000000e+00  0.00000000e+00\n",
      "   0.00000000e+00  0.00000000e+00  0.00000000e+00  1.02861667e-02\n",
      "   3.50578127e-02  9.36911292e-03 -4.29672184e-02 -8.87765637e-03\n",
      "  -9.79576868e-02 -9.11497566e-02  3.36790022e-01  1.05316626e+00\n",
      "   1.11965618e+00  8.14217071e-01  2.80214452e-01  5.85886559e-02\n",
      "   9.98213851e-02  7.78010015e-03 -4.24658544e-02 -8.27302310e-03\n",
      "  -3.37176436e-02 -2.85955699e-02 -1.76158922e-02 -8.95126657e-03\n",
      "   1.19457324e-02  1.59407772e-03  0.00000000e+00  0.00000000e+00\n",
      "   0.00000000e+00  0.00000000e+00  0.00000000e+00  0.00000000e+00\n",
      "   0.00000000e+00 -3.84380808e-03 -7.27648239e-03 -4.08467790e-02\n",
      "  -3.63865785e-02  9.02528567e-02  4.18247048e-01  9.07641193e-01\n",
      "   8.60687860e-01  6.64564167e-01  6.72107465e-02 -4.75844271e-02\n",
      "   6.70023718e-02 -5.47801513e-02 -6.30058537e-03  2.44911795e-02\n",
      "  -1.96481713e-02 -1.35990242e-02 -2.93748120e-02 -4.41501061e-02\n",
      "  -6.96265455e-03  0.00000000e+00  0.00000000e+00  0.00000000e+00\n",
      "   0.00000000e+00  0.00000000e+00  0.00000000e+00  0.00000000e+00\n",
      "  -3.22021556e-04 -5.94276183e-03 -2.36473433e-02 -4.71855734e-03\n",
      "   2.44646008e-02  2.14481361e-01  4.69371401e-01  7.54705590e-01\n",
      "   5.22874812e-01  1.25272135e-01 -4.37650698e-02  6.49575539e-03\n",
      "   3.11705283e-03 -6.65474680e-02  1.66229730e-02  6.48601493e-04\n",
      "  -1.35644278e-02  8.30581525e-03  5.24368452e-03  0.00000000e+00\n",
      "   0.00000000e+00  0.00000000e+00  0.00000000e+00  0.00000000e+00\n",
      "   0.00000000e+00  0.00000000e+00  0.00000000e+00  0.00000000e+00\n",
      "   0.00000000e+00  0.00000000e+00  0.00000000e+00 -6.75172714e-04\n",
      "  -9.81597188e-03 -1.31398994e-02  2.81627548e-03  1.82301937e-02\n",
      "   1.66238494e-04 -2.51311149e-02 -1.44090959e-02  2.12856156e-02\n",
      "   5.20183056e-03 -1.91401776e-02 -1.32474266e-02 -1.05137925e-02\n",
      "  -5.03747698e-03 -7.59297772e-04  7.21006594e-03  0.00000000e+00\n",
      "   0.00000000e+00  0.00000000e+00  0.00000000e+00  0.00000000e+00]]\n"
     ]
    }
   ],
   "source": [
    "# transpose recons and discriminative for display\n",
    "h_test = np.transpose(h_test)\n",
    "recons = np.transpose(recons)\n",
    "discriminative_coef = np.transpose(discriminative_coef)\n",
    "data = np.transpose(X)\n",
    "\n",
    "print(data.shape)\n",
    "print(h_test.shape)\n",
    "print(recons.shape)\n",
    "print(discriminative_coef.shape)"
   ]
  },
  {
   "cell_type": "code",
   "execution_count": 14,
   "metadata": {},
   "outputs": [
    {
     "data": {
      "image/png": "[encoded data removed]",
      "text/plain": [
       "<Figure size 2160x1080 with 40 Axes>"
      ]
     },
     "metadata": {},
     "output_type": "display_data"
    }
   ],
   "source": [
    "plt.figure(figsize=(30,15))\n",
    "\n",
    "n_show = 10 #  number of image that we show\n",
    "for i in range(n_show):\n",
    "    # display original\n",
    "    ax = plt.subplot(4,n_show,i+1)\n",
    "    plt.imshow(data[i].reshape(28,28))\n",
    "    plt.gray()\n",
    "    ax.get_xaxis().set_visible(False)\n",
    "    ax.get_yaxis().set_visible(False)\n",
    "    \n",
    "    # display reconstruction\n",
    "    ax = plt.subplot(4,n_show,i+1+n_show)\n",
    "    plt.imshow(recons[i].reshape(28,28))\n",
    "    plt.gray()\n",
    "    ax.get_xaxis().set_visible(False)\n",
    "    ax.get_yaxis().set_visible(False)\n",
    "    \n",
    "    # display coef\n",
    "    ax = plt.subplot(4,n_show,i+1+2*n_show)\n",
    "    plt.imshow(h_test[i].reshape(32,32))\n",
    "    plt.gray()\n",
    "    ax.get_xaxis().set_visible(False)\n",
    "    ax.get_yaxis().set_visible(False)    \n",
    "    \n",
    "    # display discriminative coef\n",
    "    ax = plt.subplot(4,n_show,i+1+3*n_show)\n",
    "    plt.imshow(discriminative_coef[i].reshape(32,32))\n",
    "    plt.gray()\n",
    "    ax.get_xaxis().set_visible(False)\n",
    "    ax.get_yaxis().set_visible(False)\n",
    "    \n",
    "plt.show()"
   ]
  },
  {
   "cell_type": "code",
   "execution_count": null,
   "metadata": {
    "collapsed": true
   },
   "outputs": [],
   "source": []
  }
 ],
 "metadata": {
  "kernelspec": {
   "display_name": "Python 3",
   "language": "python",
   "name": "python3"
  },
  "language_info": {
   "codemirror_mode": {
    "name": "ipython",
    "version": 3
   },
   "file_extension": ".py",
   "mimetype": "text/x-python",
   "name": "python",
   "nbconvert_exporter": "python",
   "pygments_lexer": "ipython3",
   "version": "3.7.0"
  }
 },
 "nbformat": 4,
 "nbformat_minor": 2
}
