{
 "cells": [
  {
   "cell_type": "markdown",
   "metadata": {},
   "source": [
    "# Traditional Sparse coding\n",
    "*** Author: Thomas Rolland ***\n",
    "\n",
    "Ref: https://www.di.ens.fr/willow/pdfs/icml09.pdf\n",
    "        \n",
    "```\n",
    "Sparse coding—that is, modelling data vectors as\n",
    "sparse linear combinations of basis elements—is\n",
    "widely used in machine learning, neuroscience,\n",
    "signal processing, and statistics. This paper focuses\n",
    "on learning the basis set, also called dictionary,\n",
    "to adapt it to specific data, an approach\n",
    "that has recently proven to be very effective for\n",
    "signal reconstruction and classification in the audio\n",
    "and image processing domains. This paper\n",
    "proposes a new online optimization algorithm\n",
    "for dictionary learning, based on stochastic approximations,\n",
    "which scales up gracefully to large\n",
    "datasets with millions of training samples. A\n",
    "proof of convergence is presented, along with\n",
    "experiments with natural images demonstrating\n",
    "that it leads to faster performance and better dictionaries\n",
    "than classical batch algorithms for both\n",
    "small and large datasets.\n",
    "```\n",
    "\n",
    "\n",
    "If you have any question, send me an email at: trolland@protonmail.ch"
   ]
  },
  {
   "cell_type": "code",
   "execution_count": 1,
   "metadata": {},
   "outputs": [
    {
     "name": "stderr",
     "output_type": "stream",
     "text": [
      "/usr/local/lib/python3.5/dist-packages/h5py/__init__.py:34: FutureWarning: Conversion of the second argument of issubdtype from `float` to `np.floating` is deprecated. In future, it will be treated as `np.float64 == np.dtype(float).type`.\n",
      "  from ._conv import register_converters as _register_converters\n"
     ]
    }
   ],
   "source": [
    "import numpy as np\n",
    "import sys\n",
    "import math\n",
    "import matplotlib.pyplot as plt\n",
    "# dataset\n",
    "from tensorflow.examples.tutorials.mnist import input_data\n",
    "# dictionary learning algorithm\n",
    "import spams # http://spams-devel.gforge.inria.fr/"
   ]
  },
  {
   "cell_type": "markdown",
   "metadata": {},
   "source": [
    "## Main\n",
    "Here we'll show the influence of the number of atoms in the dictionary on the cost function"
   ]
  },
  {
   "cell_type": "code",
   "execution_count": 2,
   "metadata": {},
   "outputs": [
    {
     "name": "stdout",
     "output_type": "stream",
     "text": [
      "WARNING:tensorflow:From <ipython-input-2-0289081bb11c>:2: read_data_sets (from tensorflow.contrib.learn.python.learn.datasets.mnist) is deprecated and will be removed in a future version.\n",
      "Instructions for updating:\n",
      "Please use alternatives such as official/mnist/dataset.py from tensorflow/models.\n",
      "WARNING:tensorflow:From /home/trolland/.local/lib/python3.5/site-packages/tensorflow/contrib/learn/python/learn/datasets/mnist.py:260: maybe_download (from tensorflow.contrib.learn.python.learn.datasets.base) is deprecated and will be removed in a future version.\n",
      "Instructions for updating:\n",
      "Please write your own downloading logic.\n",
      "WARNING:tensorflow:From /home/trolland/.local/lib/python3.5/site-packages/tensorflow/contrib/learn/python/learn/datasets/mnist.py:262: extract_images (from tensorflow.contrib.learn.python.learn.datasets.mnist) is deprecated and will be removed in a future version.\n",
      "Instructions for updating:\n",
      "Please use tf.data to implement this functionality.\n",
      "Extracting MNIST_DATA/train-images-idx3-ubyte.gz\n",
      "WARNING:tensorflow:From /home/trolland/.local/lib/python3.5/site-packages/tensorflow/contrib/learn/python/learn/datasets/mnist.py:267: extract_labels (from tensorflow.contrib.learn.python.learn.datasets.mnist) is deprecated and will be removed in a future version.\n",
      "Instructions for updating:\n",
      "Please use tf.data to implement this functionality.\n",
      "Extracting MNIST_DATA/train-labels-idx1-ubyte.gz\n",
      "WARNING:tensorflow:From /home/trolland/.local/lib/python3.5/site-packages/tensorflow/contrib/learn/python/learn/datasets/mnist.py:110: dense_to_one_hot (from tensorflow.contrib.learn.python.learn.datasets.mnist) is deprecated and will be removed in a future version.\n",
      "Instructions for updating:\n",
      "Please use tf.one_hot on tensors.\n",
      "Extracting MNIST_DATA/t10k-images-idx3-ubyte.gz\n",
      "Extracting MNIST_DATA/t10k-labels-idx1-ubyte.gz\n",
      "WARNING:tensorflow:From /home/trolland/.local/lib/python3.5/site-packages/tensorflow/contrib/learn/python/learn/datasets/mnist.py:290: DataSet.__init__ (from tensorflow.contrib.learn.python.learn.datasets.mnist) is deprecated and will be removed in a future version.\n",
      "Instructions for updating:\n",
      "Please use alternatives such as official/mnist/dataset.py from tensorflow/models.\n"
     ]
    }
   ],
   "source": [
    "# Load dataset\n",
    "mnist = input_data.read_data_sets('MNIST_DATA',one_hot=True)\n",
    "digits = mnist.train.images[:2000] # Remove [:number] to train on all dataset"
   ]
  },
  {
   "cell_type": "markdown",
   "metadata": {},
   "source": [
    "Preprocessing the training data"
   ]
  },
  {
   "cell_type": "code",
   "execution_count": 3,
   "metadata": {
    "collapsed": true
   },
   "outputs": [],
   "source": [
    "[m,n] = np.shape(digits.data)\n",
    "X = np.transpose(digits.data)\n",
    "X = np.asfortranarray(X,dtype=float)"
   ]
  },
  {
   "cell_type": "markdown",
   "metadata": {},
   "source": [
    "define usefull constants"
   ]
  },
  {
   "cell_type": "code",
   "execution_count": 4,
   "metadata": {
    "collapsed": true
   },
   "outputs": [],
   "source": [
    "lambda1 = 1.2/math.sqrt(m)\n",
    "cost = []\n",
    "k_test = [200,300,400,500,600,700,800,900,1000,1100,1200,1300,1400,1500,1600,1700,1800,1900,2000]"
   ]
  },
  {
   "cell_type": "markdown",
   "metadata": {},
   "source": [
    "Loop over all different k and compute sparse coding and dictionary step to compute the value of the cost function"
   ]
  },
  {
   "cell_type": "code",
   "execution_count": 5,
   "metadata": {},
   "outputs": [
    {
     "name": "stdout",
     "output_type": "stream",
     "text": [
      "Cost:\n",
      "79410.09721598322\n",
      "Cost:\n",
      "74163.03909517077\n",
      "Cost:\n",
      "70076.3716762491\n",
      "Cost:\n",
      "67908.82884416782\n",
      "Cost:\n",
      "66279.41762265915\n",
      "Cost:\n",
      "64800.054305335354\n",
      "Cost:\n",
      "63417.82058127\n",
      "Cost:\n",
      "62366.49839095069\n",
      "Cost:\n",
      "61259.216325938556\n",
      "Cost:\n",
      "61152.03090705706\n",
      "Cost:\n",
      "59585.795704070246\n",
      "Cost:\n",
      "59154.561120572806\n",
      "Cost:\n",
      "57196.299626210384\n",
      "Cost:\n",
      "56413.07617253834\n",
      "Cost:\n",
      "53742.856571602446\n",
      "Cost:\n",
      "52035.636336402145\n",
      "Cost:\n",
      "48822.42970504284\n",
      "Cost:\n",
      "44402.45119281222\n",
      "Cost:\n",
      "42397.89252954081\n"
     ]
    }
   ],
   "source": [
    "for elem in k_test:\n",
    "    \n",
    "    # Spams parameters\n",
    "    param = {'mode':5, 'K':elem, 'lambda1':lambda1, 'numThreads':5, 'batchsize':256, 'iter':200}\n",
    "    \n",
    "    # Dictionary learning step\n",
    "    D = spams.trainDL(X,**param)\n",
    "    \n",
    "    # Sparse coding step\n",
    "    H = spams.omp(X,D,lambda1=lambda1)\n",
    "    \n",
    "    # Compute cost function\n",
    "    residual = X - (D @ H)\n",
    "    reconstTerm = np.linalg.norm(residual,2)\n",
    "    sparseTerm = np.linalg.norm(H.toarray().flat,0)\n",
    "    print(\"Cost:\")\n",
    "    print(sparseTerm+reconstTerm)\n",
    "    cost.append(sparseTerm+reconstTerm)\n"
   ]
  },
  {
   "cell_type": "markdown",
   "metadata": {},
   "source": [
    "## Display some information"
   ]
  },
  {
   "cell_type": "code",
   "execution_count": 7,
   "metadata": {},
   "outputs": [],
   "source": [
    "# Get all data for display\n",
    "H_dis = np.transpose(H.todense()) \n",
    "recons = D @ H\n",
    "recons = np.transpose(recons)\n",
    "data = np.transpose(X)"
   ]
  },
  {
   "cell_type": "code",
   "execution_count": 14,
   "metadata": {},
   "outputs": [
    {
     "data": {
      "image/png": "[encoded data removed]",
      "text/plain": [
       "<Figure size 2160x1080 with 30 Axes>"
      ]
     },
     "metadata": {},
     "output_type": "display_data"
    }
   ],
   "source": [
    "plt.figure(figsize=(30,15))\n",
    "\n",
    "n_show = 10 #  number of image that we show\n",
    "for i in range(n_show):\n",
    "    # display original\n",
    "    ax = plt.subplot(3,n_show,i+1)\n",
    "    plt.imshow(data[i].reshape(28,28))\n",
    "    plt.gray()\n",
    "    ax.get_xaxis().set_visible(False)\n",
    "    ax.get_yaxis().set_visible(False)\n",
    "    \n",
    "    # display reconstruction\n",
    "    ax = plt.subplot(3,n_show,i+1+n_show)\n",
    "    plt.imshow(recons[i].reshape(28,28))\n",
    "    plt.gray()\n",
    "    ax.get_xaxis().set_visible(False)\n",
    "    ax.get_yaxis().set_visible(False)\n",
    "    \n",
    "    # display coef\n",
    "    ax = plt.subplot(3,n_show,i+1+2*n_show)\n",
    "    plt.imshow(H_dis[i].reshape(50,40))\n",
    "    # Here we choose this reshape because H in [nb_samples, 2000]\n",
    "    plt.gray()\n",
    "    ax.get_xaxis().set_visible(False)\n",
    "    ax.get_yaxis().set_visible(False)    \n",
    "plt.show()"
   ]
  },
  {
   "cell_type": "code",
   "execution_count": 11,
   "metadata": {},
   "outputs": [
    {
     "data": {
      "image/png": "[encoded data removed]",
      "text/plain": [
       "<Figure size 432x288 with 1 Axes>"
      ]
     },
     "metadata": {},
     "output_type": "display_data"
    }
   ],
   "source": [
    "# Evolution of cost function depending of the number of atoms\n",
    "plt.figure()\n",
    "plt.plot(k_test,cost)\n",
    "plt.show()"
   ]
  },
  {
   "cell_type": "code",
   "execution_count": null,
   "metadata": {
    "collapsed": true
   },
   "outputs": [],
   "source": []
  }
 ],
 "metadata": {
  "kernelspec": {
   "display_name": "Python 3",
   "language": "python",
   "name": "python3"
  },
  "language_info": {
   "codemirror_mode": {
    "name": "ipython",
    "version": 3
   },
   "file_extension": ".py",
   "mimetype": "text/x-python",
   "name": "python",
   "nbconvert_exporter": "python",
   "pygments_lexer": "ipython3",
   "version": "3.5.2"
  }
 },
 "nbformat": 4,
 "nbformat_minor": 2
}
